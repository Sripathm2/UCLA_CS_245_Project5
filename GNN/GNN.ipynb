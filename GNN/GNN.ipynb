{
  "nbformat": 4,
  "nbformat_minor": 0,
  "metadata": {
    "colab": {
      "name": "GNN.ipynb",
      "provenance": [],
      "collapsed_sections": [],
      "authorship_tag": "ABX9TyNqrLYYlXur1/D3rtVrir2e",
      "include_colab_link": true
    },
    "kernelspec": {
      "name": "python3",
      "display_name": "Python 3"
    }
  },
  "cells": [
    {
      "cell_type": "markdown",
      "metadata": {
        "id": "view-in-github",
        "colab_type": "text"
      },
      "source": [
        "<a href=\"https://colab.research.google.com/github/Sripathm2/UCLA_CS_245_Project5/blob/GNN/GNN/GNN.ipynb\" target=\"_parent\"><img src=\"https://colab.research.google.com/assets/colab-badge.svg\" alt=\"Open In Colab\"/></a>"
      ]
    },
    {
      "cell_type": "code",
      "metadata": {
        "colab": {
          "base_uri": "https://localhost:8080/"
        },
        "id": "KBrWtnTZD8CF",
        "outputId": "cb9222d0-cbd0-4d28-d4ea-6df90e3647f7"
      },
      "source": [
        "from google.colab import drive\n",
        "drive.mount('/content/drive')"
      ],
      "execution_count": null,
      "outputs": [
        {
          "output_type": "stream",
          "text": [
            "Mounted at /content/drive\n"
          ],
          "name": "stdout"
        }
      ]
    },
    {
      "cell_type": "code",
      "metadata": {
        "id": "AZPc4X6x6xdA"
      },
      "source": [
        "!pip install spektral\n",
        "import spektral\n",
        "import numpy as np\n",
        "import scipy.sparse as sp\n",
        "from tensorflow.keras.callbacks import EarlyStopping\n",
        "from tensorflow.keras.layers import Input, Dropout\n",
        "from tensorflow.keras.models import Model\n",
        "from tensorflow.keras.optimizers import Adam\n",
        "from tensorflow.keras.regularizers import l2\n",
        "\n",
        "from spektral.data.loaders import SingleLoader\n",
        "from spektral.layers import GCNConv"
      ],
      "execution_count": null,
      "outputs": []
    },
    {
      "cell_type": "code",
      "metadata": {
        "colab": {
          "base_uri": "https://localhost:8080/"
        },
        "id": "J5S3OMQ4EKsE",
        "outputId": "81dae581-0c34-45ec-ec90-de1d337e5d1e"
      },
      "source": [
        "% cd /content/drive/MyDrive/CS245/UCLA_CS_245_Project5-GNN/GNN\n",
        "import build_data\n",
        "Adj, X, y = build_data.build_data()"
      ],
      "execution_count": null,
      "outputs": [
        {
          "output_type": "stream",
          "text": [
            "/content/drive/MyDrive/CS245/UCLA_CS_245_Project5-GNN/GNN\n"
          ],
          "name": "stdout"
        }
      ]
    },
    {
      "cell_type": "code",
      "metadata": {
        "colab": {
          "base_uri": "https://localhost:8080/"
        },
        "id": "ogdC9TBbFn6N",
        "outputId": "10783ec1-f3f8-4040-9568-bde008953aba"
      },
      "source": [
        "print(Adj.shape)\n",
        "print(X.shape)\n",
        "print(y.shape)"
      ],
      "execution_count": null,
      "outputs": [
        {
          "output_type": "stream",
          "text": [
            "(286, 52, 52)\n",
            "(286, 52, 5)\n",
            "(286, 52, 1)\n"
          ],
          "name": "stdout"
        }
      ]
    },
    {
      "cell_type": "code",
      "metadata": {
        "id": "EJ6e67i2Fjid"
      },
      "source": [
        "dataset = [spektral.data.Graph(x=np.random.randint(0,1,size=(52,5)), a=sp.csr_matrix((52,52)))] # Placeholder data\n",
        "\n",
        "'''\n",
        "The input can only be an adjacency matrix of shape node x node. Node features has the same issue.\n",
        "'''\n",
        "'''\n",
        "x: np.array, the node features (shape (n_nodes, n_node_features));\n",
        "a: np.array or scipy.sparse matrix, the adjacency matrix (shape (n_nodes, n_nodes));\n",
        "e: np.array, the edge features (shape (n_nodes, n_nodes, n_edge_features) or (n_edges, n_edge_features));\n",
        "'''"
      ],
      "execution_count": null,
      "outputs": []
    },
    {
      "cell_type": "code",
      "metadata": {
        "id": "BZOjcWGAHTAO"
      },
      "source": [
        "# Parameters\n",
        "channels = 16          # Number of channels in the first layer\n",
        "dropout = 0.5          # Dropout rate for the features\n",
        "l2_reg = 5e-4 / 2      # L2 regularization rate\n",
        "learning_rate = 1e-2   # Learning rate\n",
        "epochs = 200           # Number of training epochs\n",
        "patience = 10          # Patience for early stopping\n",
        "a_dtype = dataset[0].a.dtype  # Only needed for TF 2.1\n",
        "\n",
        "N = 51          # Number of nodes in the graph\n",
        "F = 5           # Original size of node features\n",
        "y = 5           # Label\n",
        "\n",
        "# GNN Class Definition\n",
        "class GNN(Model):\n",
        "  def __init__(self):\n",
        "    super(Model,self).__init__()\n",
        "    self.x_in = Input(shape=(F,))\n",
        "    self.a_in = Input((N,), sparse=True, dtype=a_dtype)\n",
        "    self.do_1 = Dropout(dropout)\n",
        "    self.gc_1 = GCNConv(channels=channels,\n",
        "                   activation='relu',\n",
        "                   kernel_regularizer=l2(l2_reg),\n",
        "                   use_bias=False\n",
        "                  )\n",
        "    self.do_2 = Droput(dropout)\n",
        "    self.gc2 = GCNConv(channels=y,\n",
        "                       activation='softmax'\n",
        "                       use_bias=False\n",
        "                       )\n",
        "    def call(self, inputs):\n",
        "      x_in = self.x_in(inputs[0])\n",
        "      a_in = self.a_in(inputs[1])\n",
        "      x = self.do_1(x_in)\n",
        "      x = self.gc_1([x, a_in])\n",
        "      x = self.do_2(x)\n",
        "      return gc_2([x, a_in])\n",
        "\n",
        "\n"
      ],
      "execution_count": null,
      "outputs": []
    },
    {
      "cell_type": "code",
      "metadata": {
        "id": "27IfY5fIuYAN"
      },
      "source": [
        "# Parameters\n",
        "channels = 16          # Number of channels in the first layer\n",
        "dropout = 0.5          # Dropout rate for the features\n",
        "l2_reg = 5e-4 / 2      # L2 regularization rate\n",
        "learning_rate = 1e-2   # Learning rate\n",
        "epochs = 200           # Number of training epochs\n",
        "patience = 10          # Patience for early stopping\n",
        "a_dtype = dataset[0].a.dtype  # Only needed for TF 2.1\n",
        "\n",
        "N = 51          # Number of nodes in the graph\n",
        "F = 5           # Original size of node features\n",
        "y = 5           # Label\n",
        "\n",
        "\n",
        "# Model definition\n",
        "x_in = Input(shape=(F,))\n",
        "a_in = Input((N,), sparse=True, dtype=a_dtype)\n",
        "\n",
        "do_1 = Dropout(dropout)(x_in)\n",
        "gc_1 = GCNConv(channels,\n",
        "               activation='relu',\n",
        "               kernel_regularizer=l2(l2_reg),\n",
        "               use_bias=False)([do_1, a_in])\n",
        "do_2 = Dropout(dropout)(gc_1)\n",
        "gc_2 = GCNConv(y,\n",
        "               activation='softmax',\n",
        "               use_bias=False)([do_2, a_in])\n",
        "\n",
        "# Build model\n",
        "model = Model(inputs=[x_in, a_in], outputs=gc_2)\n",
        "optimizer = Adam(lr=learning_rate)\n",
        "model.compile(optimizer=optimizer,\n",
        "              loss='categorical_crossentropy',\n",
        "              weighted_metrics=['acc'])\n",
        "model.summary()\n",
        "\n",
        "# Train model\n",
        "loader = SingleLoader(dataset)\n",
        "model.fit(loader.load(),\n",
        "          steps_per_epoch=loader.steps_per_epoch,\n",
        "          epochs=epochs,\n",
        "          callbacks=[EarlyStopping(patience=patience, restore_best_weights=True)])\n"
      ],
      "execution_count": null,
      "outputs": []
    }
  ]
}